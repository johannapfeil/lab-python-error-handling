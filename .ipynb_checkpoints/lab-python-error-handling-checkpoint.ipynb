{
 "cells": [
  {
   "cell_type": "markdown",
   "id": "25d7736c-ba17-4aff-b6bb-66eba20fbf4e",
   "metadata": {},
   "source": [
    "# Lab | Error Handling"
   ]
  },
  {
   "cell_type": "markdown",
   "id": "bc99b386-7508-47a0-bcdb-d969deaf6c8b",
   "metadata": {},
   "source": [
    "## Exercise: Error Handling for Managing Customer Orders\n",
    "\n",
    "The implementation of your code for managing customer orders assumes that the user will always enter a valid input. \n",
    "\n",
    "For example, we could modify the `initialize_inventory` function to include error handling.\n",
    "   - If the user enters an invalid quantity (e.g., a negative value or a non-numeric value), display an error message and ask them to re-enter the quantity for that product.\n",
    "   - Use a try-except block to handle the error and continue prompting the user until a valid quantity is entered.\n",
    "\n",
    "```python\n",
    "# Step 1: Define the function for initializing the inventory with error handling\n",
    "def initialize_inventory(products):\n",
    "    inventory = {}\n",
    "    for product in products:\n",
    "        valid_quantity = False\n",
    "        while not valid_quantity:\n",
    "            try:\n",
    "                quantity = int(input(f\"Enter the quantity of {product}s available: \"))\n",
    "                if quantity < 0:\n",
    "                    raise ValueError(\"Invalid quantity! Please enter a non-negative value.\")\n",
    "                valid_quantity = True\n",
    "            except ValueError as error:\n",
    "                print(f\"Error: {error}\")\n",
    "        inventory[product] = quantity\n",
    "    return inventory\n",
    "\n",
    "# Or, in another way:\n",
    "\n",
    "def initialize_inventory(products):\n",
    "    inventory = {}\n",
    "    for product in products:\n",
    "        valid_input = False\n",
    "        while not valid_input:\n",
    "            try:\n",
    "                quantity = int(input(f\"Enter the quantity of {product}s available: \"))\n",
    "                if quantity >= 0:\n",
    "                    inventory[product] = quantity\n",
    "                    valid_input = True\n",
    "                else:\n",
    "                    print(\"Quantity cannot be negative. Please enter a valid quantity.\")\n",
    "            except ValueError:\n",
    "                print(\"Invalid input. Please enter a valid quantity.\")\n",
    "    return inventory\n",
    "```\n",
    "\n",
    "Let's enhance your code by implementing error handling to handle invalid inputs.\n",
    "\n",
    "Follow the steps below to complete the exercise:\n",
    "\n",
    "2. Modify the `calculate_total_price` function to include error handling.\n",
    "   - If the user enters an invalid price (e.g., a negative value or a non-numeric value), display an error message and ask them to re-enter the price for that product.\n",
    "   - Use a try-except block to handle the error and continue prompting the user until a valid price is entered.\n",
    "\n",
    "3. Modify the `get_customer_orders` function to include error handling.\n",
    "   - If the user enters an invalid number of orders (e.g., a negative value or a non-numeric value), display an error message and ask them to re-enter the number of orders.\n",
    "   - If the user enters an invalid product name (e.g., a product name that is not in the inventory), or that doesn't have stock available, display an error message and ask them to re-enter the product name. *Hint: you will need to pass inventory as a parameter*\n",
    "   - Use a try-except block to handle the error and continue prompting the user until a valid product name is entered.\n",
    "\n",
    "4. Test your code by running the program and deliberately entering invalid quantities and product names. Make sure the error handling mechanism works as expected.\n"
   ]
  },
  {
   "cell_type": "markdown",
   "id": "d623128a",
   "metadata": {},
   "source": [
    "## Initialize Inventory"
   ]
  },
  {
   "cell_type": "code",
   "execution_count": 1,
   "id": "e2c94ae0",
   "metadata": {},
   "outputs": [],
   "source": [
    "# Ask the user to specify the quantity of each product\n",
    "def initialize_inventory(products):\n",
    "    inventory = {product: robust_inventory(product) for product in products}\n",
    "    return inventory\n",
    "    \n",
    "def robust_inventory(product):\n",
    "    while True:\n",
    "        try:\n",
    "            quantity = int(input(f'Enter the quantity of {product}s available: '))\n",
    "            \n",
    "            if quantity < 0: \n",
    "                print('Quantities cannot be negative.')\n",
    "                \n",
    "            else:\n",
    "                break\n",
    "            \n",
    "        except ValueError:\n",
    "            print('Please enter a valid number.')\n",
    "        \n",
    "    return quantity"
   ]
  },
  {
   "cell_type": "markdown",
   "id": "9a8f4247",
   "metadata": {},
   "source": [
    "## Customer selection"
   ]
  },
  {
   "cell_type": "code",
   "execution_count": 2,
   "id": "2ab390d0",
   "metadata": {},
   "outputs": [],
   "source": [
    "def get_customer_orders(products):\n",
    "    return set(robust_customer_orders(products)) # Make a set out of the order list\n",
    "\n",
    "def robust_customer_orders(products):\n",
    "    \n",
    "    while True:\n",
    "        try: \n",
    "            number_of_products = int(input('Enter the number of customer orders: '))\n",
    "            \n",
    "            if number_of_products < 0:\n",
    "                print('Quantities cannot be negative.')\n",
    "            \n",
    "            elif number_of_products > len(inventory):\n",
    "                print(f'Not possible. Only {len(inventory)} product(s) in the inventory.')\n",
    "        \n",
    "            else:\n",
    "                break\n",
    "        \n",
    "        except ValueError:\n",
    "            print('Please enter a valid number.')   \n",
    "        \n",
    "    return robust_customer_orders_products(number_of_products, products)\n",
    "\n",
    "def robust_customer_orders_products(number_of_products, products):\n",
    "    orders = []\n",
    "    \n",
    "    for i in range(number_of_products):                \n",
    "                \n",
    "        while True:\n",
    "            ordered_product = input(f'Enter the name of product {i+1} that a customer wants to order: ')\n",
    "                    \n",
    "            if ordered_product not in products:\n",
    "                print('There is a typo. Try again.')\n",
    "        \n",
    "            else:\n",
    "                orders.append(ordered_product)\n",
    "                break\n",
    "    \n",
    "    return orders"
   ]
  },
  {
   "cell_type": "markdown",
   "id": "33fc699e",
   "metadata": {},
   "source": [
    "## Percentage ordered"
   ]
  },
  {
   "cell_type": "code",
   "execution_count": 3,
   "id": "70caba56",
   "metadata": {},
   "outputs": [],
   "source": [
    "def calculate_order_statistics(customer_orders, products):\n",
    "    number_products = len(customer_orders)\n",
    "    percentage_ordered = len(customer_orders) / len(products) * 100\n",
    "    return (number_products, percentage_ordered)\n",
    "\n",
    "def print_order_statistics(order_statistics):\n",
    "    print(f'''\\nOrder Statistics:\n",
    "Total products ordered: {order_statistics[0]}\n",
    "Percentage of products ordered: {order_statistics[1]:.0f}%''')"
   ]
  },
  {
   "cell_type": "markdown",
   "id": "dc3978b0",
   "metadata": {},
   "source": [
    "## Inventory update"
   ]
  },
  {
   "cell_type": "code",
   "execution_count": 4,
   "id": "c2bc752f",
   "metadata": {},
   "outputs": [],
   "source": [
    "def update_inventory(customer_orders, inventory):\n",
    "    for product in customer_orders:\n",
    "        if product in inventory:\n",
    "            \n",
    "            if inventory[product] == 1:\n",
    "                del inventory[product]\n",
    "            \n",
    "            else:\n",
    "                inventory[product] -= 1\n",
    "    \n",
    "    return inventory\n",
    "\n",
    "def print_updated_inventory(inventory):\n",
    "    print('\\nUpdated Inventory:')\n",
    "    print('\\n'.join([f'{product}: {quantity}'for product, quantity in inventory.items()]))"
   ]
  },
  {
   "cell_type": "markdown",
   "id": "4e3e3220",
   "metadata": {},
   "source": [
    "## Price"
   ]
  },
  {
   "cell_type": "code",
   "execution_count": 5,
   "id": "65a84fc0",
   "metadata": {},
   "outputs": [],
   "source": [
    "def calculate_total_price(customer_orders):\n",
    "    return sum(robust_price(product)for product in customer_orders)\n",
    "\n",
    "def robust_price(product):\n",
    "    while True:\n",
    "            \n",
    "        try:\n",
    "            price = float(input(f'Enter the price of {product}: '))\n",
    "                \n",
    "            if price <= 0:\n",
    "                print('Prices must be positive.')\n",
    "                \n",
    "            else:\n",
    "                break\n",
    "                \n",
    "        except ValueError:\n",
    "            print('Please enter a valid number.')               \n",
    "    \n",
    "    return price\n",
    "\n",
    "def print_price(total_price):\n",
    "    print(f'Total Price: {total_price:.1f}')"
   ]
  },
  {
   "cell_type": "markdown",
   "id": "fcd360b0",
   "metadata": {},
   "source": [
    "## Run"
   ]
  },
  {
   "cell_type": "code",
   "execution_count": 6,
   "id": "cb9d9d56",
   "metadata": {},
   "outputs": [
    {
     "name": "stdout",
     "output_type": "stream",
     "text": [
      "Enter the quantity of t-shirts available: r\n",
      "Please enter a valid number.\n",
      "Enter the quantity of t-shirts available: 3\n",
      "Enter the quantity of mugs available: 2\n",
      "Enter the number of customer orders: -3\n",
      "Quantities cannot be negative.\n",
      "Enter the number of customer orders: t\n",
      "Please enter a valid number.\n",
      "Enter the number of customer orders: -3\n",
      "Quantities cannot be negative.\n",
      "Enter the number of customer orders: 2\n",
      "Enter the name of product 1 that a customer wants to order: gr\n",
      "There is a typo. Try again.\n",
      "Enter the name of product 1 that a customer wants to order: -3\n",
      "There is a typo. Try again.\n",
      "Enter the name of product 1 that a customer wants to order: mug\n",
      "Enter the name of product 2 that a customer wants to order: t-shirt\n",
      "\n",
      "Order Statistics:\n",
      "Total products ordered: 2\n",
      "Percentage of products ordered: 100%\n",
      "\n",
      "Updated Inventory:\n",
      "t-shirt: 2\n",
      "mug: 1\n",
      "Enter the price of mug: 3\n",
      "Enter the price of t-shirt: 4\n",
      "Total Price: 7.0\n"
     ]
    }
   ],
   "source": [
    "products = ['t-shirt', 'mug']#, 'hat', 'book', 'keychain']\n",
    "\n",
    "inventory = initialize_inventory(products)\n",
    "customer_orders = get_customer_orders(products)\n",
    "\n",
    "order_statistics = calculate_order_statistics(customer_orders, products)\n",
    "print_order_statistics(order_statistics)\n",
    "\n",
    "updated_inventory = update_inventory(customer_orders, inventory)\n",
    "print_updated_inventory(updated_inventory)\n",
    "\n",
    "total_price = calculate_total_price(customer_orders)\n",
    "print_price(total_price)"
   ]
  },
  {
   "cell_type": "code",
   "execution_count": null,
   "id": "3975d3eb",
   "metadata": {},
   "outputs": [],
   "source": []
  }
 ],
 "metadata": {
  "kernelspec": {
   "display_name": "Python 3 (ipykernel)",
   "language": "python",
   "name": "python3"
  },
  "language_info": {
   "codemirror_mode": {
    "name": "ipython",
    "version": 3
   },
   "file_extension": ".py",
   "mimetype": "text/x-python",
   "name": "python",
   "nbconvert_exporter": "python",
   "pygments_lexer": "ipython3",
   "version": "3.9.13"
  }
 },
 "nbformat": 4,
 "nbformat_minor": 5
}
